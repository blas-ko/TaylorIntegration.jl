{
 "cells": [
  {
   "cell_type": "code",
   "execution_count": 1,
   "metadata": {
    "collapsed": false
   },
   "outputs": [
    {
     "name": "stderr",
     "output_type": "stream",
     "text": [
      "INFO: Checking out TaylorIntegration jp/wild-experiment...\n",
      "INFO: Pulling TaylorIntegration latest jp/wild-experiment...\n",
      "INFO: No packages to install, update or remove\n"
     ]
    }
   ],
   "source": [
    "Pkg.checkout(\"TaylorIntegration\", \"jp/wild-experiment\")"
   ]
  },
  {
   "cell_type": "code",
   "execution_count": 2,
   "metadata": {
    "collapsed": false
   },
   "outputs": [],
   "source": [
    "using TaylorIntegration, PyPlot"
   ]
  },
  {
   "cell_type": "code",
   "execution_count": 3,
   "metadata": {
    "collapsed": false
   },
   "outputs": [
    {
     "data": {
      "text/plain": [
       "diffeq (generic function with 1 method)"
      ]
     },
     "execution_count": 3,
     "metadata": {},
     "output_type": "execute_result"
    }
   ],
   "source": [
    "diffeq(t, x) = x.^2"
   ]
  },
  {
   "cell_type": "code",
   "execution_count": 32,
   "metadata": {
    "collapsed": false
   },
   "outputs": [
    {
     "data": {
      "text/plain": [
       "diffeq1! (generic function with 1 method)"
      ]
     },
     "execution_count": 32,
     "metadata": {},
     "output_type": "execute_result"
    }
   ],
   "source": [
    "function diffeq2!(t, x, xdot)\n",
    "    xdot[1] = x[1]^2\n",
    "    xdot[2] = x[2]^2\n",
    "end\n",
    "\n",
    "function diffeq1!(t, x, xdot)\n",
    "    xdot[1] = x[1]^2\n",
    "end"
   ]
  },
  {
   "cell_type": "code",
   "execution_count": 40,
   "metadata": {
    "collapsed": false
   },
   "outputs": [
    {
     "name": "stdout",
     "output_type": "stream",
     "text": [
      "  0.001413 seconds (18.63 k allocations: 1.508 MB)\n"
     ]
    },
    {
     "name": "stderr",
     "output_type": "stream",
     "text": [
      "WARNING: Maximum number of integration steps reached; exiting.\n"
     ]
    }
   ],
   "source": [
    "@time tT, xT = TaylorIntegration.taylorinteg2(diffeq1!, [3.0], 0.0, 0.34, 28, 1e-20, maxsteps=100);"
   ]
  },
  {
   "cell_type": "code",
   "execution_count": 27,
   "metadata": {
    "collapsed": false
   },
   "outputs": [
    {
     "data": {
      "text/plain": [
       "101-element SubArray{Float64,1,Array{Float64,1},Tuple{UnitRange{Int64}},true}:\n",
       " 0.0      \n",
       " 0.0581389\n",
       " 0.105798 \n",
       " 0.144927 \n",
       " 0.177101 \n",
       " 0.203596 \n",
       " 0.225447 \n",
       " 0.243494 \n",
       " 0.258421 \n",
       " 0.270784 \n",
       " 0.281038 \n",
       " 0.289555 \n",
       " 0.296637 \n",
       " ⋮        \n",
       " 0.333333 \n",
       " 0.333333 \n",
       " 0.333333 \n",
       " 0.333333 \n",
       " 0.333333 \n",
       " 0.333333 \n",
       " 0.333333 \n",
       " 0.333333 \n",
       " 0.333333 \n",
       " 0.333333 \n",
       " 0.333333 \n",
       " 0.333333 "
      ]
     },
     "execution_count": 27,
     "metadata": {},
     "output_type": "execute_result"
    }
   ],
   "source": [
    "tT"
   ]
  },
  {
   "cell_type": "code",
   "execution_count": 28,
   "metadata": {
    "collapsed": false
   },
   "outputs": [
    {
     "data": {
      "text/plain": [
       "101×2 SubArray{Float64,2,Array{Float64,2},Tuple{UnitRange{Int64},Colon},false}:\n",
       "  3.0         3.0      \n",
       "  3.63379     3.63379  \n",
       "  4.39492     4.39492  \n",
       "  5.30767     5.30767  \n",
       "  6.40071     6.40071  \n",
       "  7.70789     7.70789  \n",
       "  9.26904     9.26904  \n",
       " 11.131      11.131    \n",
       " 13.349      13.349    \n",
       " 15.9874     15.9874   \n",
       " 19.1223     19.1223   \n",
       " 22.8422     22.8422   \n",
       " 27.251      27.251    \n",
       "  ⋮                    \n",
       "  1.35506e6   1.35506e6\n",
       "  1.51858e6   1.51858e6\n",
       "  1.70098e6   1.70098e6\n",
       "  1.90432e6   1.90432e6\n",
       "  2.13092e6   2.13092e6\n",
       "  2.38329e6   2.38329e6\n",
       "  2.66425e6   2.66425e6\n",
       "  2.97688e6   2.97688e6\n",
       "  3.3246e6    3.3246e6 \n",
       "  3.71117e6   3.71117e6\n",
       "  4.14073e6   4.14073e6\n",
       "  4.61784e6   4.61784e6"
      ]
     },
     "execution_count": 28,
     "metadata": {},
     "output_type": "execute_result"
    }
   ],
   "source": [
    "xT"
   ]
  },
  {
   "cell_type": "code",
   "execution_count": 29,
   "metadata": {
    "collapsed": false
   },
   "outputs": [
    {
     "data": {
      "text/plain": [
       "2.4952030275304793e-8"
      ]
     },
     "execution_count": 29,
     "metadata": {},
     "output_type": "execute_result"
    }
   ],
   "source": [
    "tT[end]-tT[end-1]"
   ]
  },
  {
   "cell_type": "code",
   "execution_count": 30,
   "metadata": {
    "collapsed": false
   },
   "outputs": [
    {
     "data": {
      "text/plain": [
       "0.3333331167818043"
      ]
     },
     "execution_count": 30,
     "metadata": {},
     "output_type": "execute_result"
    }
   ],
   "source": [
    "tT[end]"
   ]
  },
  {
   "cell_type": "code",
   "execution_count": 41,
   "metadata": {
    "collapsed": false
   },
   "outputs": [
    {
     "data": {
      "image/png": "[encoded data removed]",
      "text/plain": [
       "PyPlot.Figure(PyObject <matplotlib.figure.Figure object at 0x3278c63d0>)"
      ]
     },
     "metadata": {},
     "output_type": "display_data"
    },
    {
     "data": {
      "text/plain": [
       "1-element Array{Any,1}:\n",
       " PyObject <matplotlib.lines.Line2D object at 0x32927b950>"
      ]
     },
     "execution_count": 41,
     "metadata": {},
     "output_type": "execute_result"
    }
   ],
   "source": [
    "plot(tT,xT)"
   ]
  },
  {
   "cell_type": "code",
   "execution_count": 42,
   "metadata": {
    "collapsed": false
   },
   "outputs": [
    {
     "data": {
      "text/plain": [
       "exactsol (generic function with 1 method)"
      ]
     },
     "execution_count": 42,
     "metadata": {},
     "output_type": "execute_result"
    }
   ],
   "source": [
    "exactsol(t, x0) = x0./(1.0-x0.*t) #analytical solution"
   ]
  },
  {
   "cell_type": "code",
   "execution_count": 49,
   "metadata": {
    "collapsed": false
   },
   "outputs": [
    {
     "data": {
      "text/plain": [
       "101×1 Array{Float64,2}:\n",
       "  0.0        \n",
       "  0.0        \n",
       "  0.0        \n",
       "  0.0        \n",
       "  0.0        \n",
       "  2.3046e-16 \n",
       "  3.83288e-16\n",
       "  3.19172e-16\n",
       "  1.33071e-16\n",
       "  5.55547e-16\n",
       " -5.57368e-16\n",
       " -4.66599e-16\n",
       " -5.21481e-16\n",
       "  ⋮          \n",
       "  7.36056e-11\n",
       "  1.01051e-10\n",
       "  7.06663e-11\n",
       "  6.2487e-11 \n",
       "  7.83341e-11\n",
       "  1.30175e-10\n",
       "  7.785e-11  \n",
       " -2.4396e-11 \n",
       "  1.86123e-10\n",
       "  2.46261e-10\n",
       "  1.92492e-10\n",
       "  3.70499e-10"
      ]
     },
     "execution_count": 49,
     "metadata": {},
     "output_type": "execute_result"
    }
   ],
   "source": [
    "#error relative to analytical solution\n",
    "δxT = (xT-exactsol(tT, 3.0))./exactsol(tT, 3.0)"
   ]
  },
  {
   "cell_type": "code",
   "execution_count": 50,
   "metadata": {
    "collapsed": false
   },
   "outputs": [
    {
     "data": {
      "image/png": "[encoded data removed]",
      "text/plain": [
       "PyPlot.Figure(PyObject <matplotlib.figure.Figure object at 0x3295f9e90>)"
      ]
     },
     "metadata": {},
     "output_type": "display_data"
    }
   ],
   "source": [
    "plot(tT, log10(abs(δxT)), \"o-\");"
   ]
  },
  {
   "cell_type": "code",
   "execution_count": null,
   "metadata": {
    "collapsed": true
   },
   "outputs": [],
   "source": []
  }
 ],
 "metadata": {
  "kernelspec": {
   "display_name": "Julia 0.5.1-pre",
   "language": "julia",
   "name": "julia-0.5"
  },
  "language_info": {
   "file_extension": ".jl",
   "mimetype": "application/julia",
   "name": "julia",
   "version": "0.5.1"
  }
 },
 "nbformat": 4,
 "nbformat_minor": 1
}
